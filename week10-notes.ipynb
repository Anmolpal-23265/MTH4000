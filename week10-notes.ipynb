{
 "cells": [
  {
   "cell_type": "markdown",
   "metadata": {
    "slideshow": {
     "slide_type": "-"
    }
   },
   "source": [
    "# MTH4000 Programming in Python I - Lecture 9\n",
    "Module Organisers: Dr Matthew Lewis and Prof. Thomas Prellberg"
   ]
  },
  {
   "cell_type": "markdown",
   "metadata": {},
   "source": [
    "We will now turn towards working with arrays in Python. Solving systems of linear equations is an essential part of mathematics. More about this in Linear Algebra next semester, For now it suffices to say that there are many Linear Algebra functions available in Python. You will find these functions in `scipy.linalg`, with the relevant data type `array` provided by `numpy`. So let us start with importing the relevant modules."
   ]
  },
  {
   "cell_type": "code",
   "execution_count": 2,
   "metadata": {
    "ExecuteTime": {
     "end_time": "2023-11-13T16:23:36.602124Z",
     "start_time": "2023-11-13T16:23:36.272841Z"
    }
   },
   "outputs": [],
   "source": [
    "import numpy as np\n",
    "import scipy.linalg as la\n",
    "import matplotlib.pyplot as plt"
   ]
  },
  {
   "cell_type": "markdown",
   "metadata": {},
   "source": [
    "## Nested Lists, Arrays, Matrices, and All That"
   ]
  },
  {
   "cell_type": "markdown",
   "metadata": {},
   "source": [
    "### Array data type"
   ]
  },
  {
   "cell_type": "markdown",
   "metadata": {},
   "source": [
    "The module `numpy` provides the data type `ndarray` for $n$-dimensional arrays. In what follows, we will mainly consider two-dimensional arrays, i.e. matrices."
   ]
  },
  {
   "cell_type": "markdown",
   "metadata": {},
   "source": [
    "**A word of caution:** Python also knows a type `array` as part of the module `array`, and also a (deprecated) type `matrix` as part of the module `numpy`. Mixing data of these different types is a bad idea, and I *strongly* urge you to stay with the array type `ndarray` defined in `numpy`."
   ]
  },
  {
   "cell_type": "markdown",
   "metadata": {},
   "source": [
    "With the function `numpy.array` we can create an array from a range, tuple, or (nested) list."
   ]
  },
  {
   "cell_type": "code",
   "execution_count": 3,
   "metadata": {
    "ExecuteTime": {
     "end_time": "2023-11-13T16:23:36.611833Z",
     "start_time": "2023-11-13T16:23:36.604085Z"
    }
   },
   "outputs": [
    {
     "name": "stdout",
     "output_type": "stream",
     "text": [
      "[0, 1, 2, 3, 4, 5]\n",
      "[0 1 2 3 4 5]\n"
     ]
    }
   ],
   "source": [
    "l=[0,1,2,3,4,5]\n",
    "\n",
    "a=np.array(l)\n",
    "\n",
    "print(l)\n",
    "print(a) # there are no commas"
   ]
  },
  {
   "cell_type": "markdown",
   "metadata": {},
   "source": [
    "You see that when printed out, this looks slightly differently than for lists. Let us repeat this for two-dimensional arrays, where the array is printed out like a matrix."
   ]
  },
  {
   "cell_type": "code",
   "execution_count": 5,
   "metadata": {
    "ExecuteTime": {
     "end_time": "2023-11-13T16:23:36.622514Z",
     "start_time": "2023-11-13T16:23:36.614841Z"
    }
   },
   "outputs": [
    {
     "name": "stdout",
     "output_type": "stream",
     "text": [
      "[[0, 1, 2], [3, 4, 5]]\n",
      "[[0 1 2]\n",
      " [3 4 5]]\n"
     ]
    }
   ],
   "source": [
    "l=[[0,1,2],[3,4,5]]\n",
    "\n",
    "a=np.array(l)\n",
    "\n",
    "print(l)\n",
    "print(a)"
   ]
  },
  {
   "cell_type": "markdown",
   "metadata": {},
   "source": [
    "As usual, we can query the data type with `type()`."
   ]
  },
  {
   "cell_type": "code",
   "execution_count": 6,
   "metadata": {
    "ExecuteTime": {
     "end_time": "2023-11-13T16:23:36.633604Z",
     "start_time": "2023-11-13T16:23:36.625522Z"
    }
   },
   "outputs": [
    {
     "data": {
      "text/plain": [
       "numpy.ndarray"
      ]
     },
     "execution_count": 6,
     "metadata": {},
     "output_type": "execute_result"
    }
   ],
   "source": [
    "type(a)"
   ]
  },
  {
   "cell_type": "markdown",
   "metadata": {},
   "source": [
    "While arrays look like nested lists, they have some more restrictive features when compared with nested lists, to enable faster access and computation. For example, numpy attempts to keep the data types homogeneous as in the next example, where the integer `2` got replaced by the floating point `2.`."
   ]
  },
  {
   "cell_type": "code",
   "execution_count": 8,
   "metadata": {
    "ExecuteTime": {
     "end_time": "2023-11-13T16:23:36.644706Z",
     "start_time": "2023-11-13T16:23:36.636613Z"
    }
   },
   "outputs": [
    {
     "name": "stdout",
     "output_type": "stream",
     "text": [
      "[[0 1 2]\n",
      " [3 4 5]]\n",
      "[[0. 1. 2.]\n",
      " [3. 4. 5.]]\n"
     ]
    }
   ],
   "source": [
    "a_int=np.array([[0,1,2],[3,4,5]])\n",
    "a_float=np.array([[0,1,2.],[3,4,5]])\n",
    "\n",
    "print(a_int)\n",
    "print(a_float)"
   ]
  },
  {
   "cell_type": "markdown",
   "metadata": {},
   "source": [
    "We can query the *data* type of the array by using the `.dtype` attribute"
   ]
  },
  {
   "cell_type": "code",
   "execution_count": 9,
   "metadata": {
    "ExecuteTime": {
     "end_time": "2023-11-13T16:23:36.657811Z",
     "start_time": "2023-11-13T16:23:36.648792Z"
    }
   },
   "outputs": [
    {
     "data": {
      "text/plain": [
       "(dtype('int32'), dtype('float64'))"
      ]
     },
     "execution_count": 9,
     "metadata": {},
     "output_type": "execute_result"
    }
   ],
   "source": [
    "a_int.dtype, a_float.dtype"
   ]
  },
  {
   "cell_type": "markdown",
   "metadata": {},
   "source": [
    "Note that data types of array entries differ from standard Python data types, again mainly to make computations easier and faster to perform. You can find out more [here](https://docs.scipy.org/doc/numpy/user/basics.types.html)."
   ]
  },
  {
   "cell_type": "markdown",
   "metadata": {},
   "source": [
    "### Creating Arrays"
   ]
  },
  {
   "cell_type": "markdown",
   "metadata": {},
   "source": [
    "We have already created arrays by converting a (nested) list to an array by using the function `numpy.array()`. Early on in the lectures I already sneaked in a one-dimensional array when I used the function `numpy.linspace()`. You may recall I used it to create evenly spaced $x$-coordinates for plotting. What I really did was create an array with this function."
   ]
  },
  {
   "cell_type": "code",
   "execution_count": 10,
   "metadata": {
    "ExecuteTime": {
     "end_time": "2023-11-13T16:23:36.674848Z",
     "start_time": "2023-11-13T16:23:36.661337Z"
    }
   },
   "outputs": [
    {
     "name": "stdout",
     "output_type": "stream",
     "text": [
      "[ 0.  2.  4.  6.  8. 10.]\n"
     ]
    },
    {
     "data": {
      "text/plain": [
       "numpy.ndarray"
      ]
     },
     "execution_count": 10,
     "metadata": {},
     "output_type": "execute_result"
    }
   ],
   "source": [
    "a=np.linspace(0,10,6)\n",
    "print(a)\n",
    "type(a)"
   ]
  },
  {
   "cell_type": "markdown",
   "metadata": {},
   "source": [
    "We can also create arrays pre-filled with zeros, ones, or any other value using `numpy.zeros()`, `numpy.ones()`, or `numpy.full()`, respectively."
   ]
  },
  {
   "cell_type": "code",
   "execution_count": 11,
   "metadata": {
    "ExecuteTime": {
     "end_time": "2023-11-13T16:23:36.688433Z",
     "start_time": "2023-11-13T16:23:36.676863Z"
    }
   },
   "outputs": [
    {
     "name": "stdout",
     "output_type": "stream",
     "text": [
      "[0. 0. 0. 0.]\n"
     ]
    }
   ],
   "source": [
    "a=np.zeros(4)\n",
    "print(a)"
   ]
  },
  {
   "cell_type": "code",
   "execution_count": 12,
   "metadata": {
    "ExecuteTime": {
     "end_time": "2023-11-13T16:23:36.695007Z",
     "start_time": "2023-11-13T16:23:36.690447Z"
    }
   },
   "outputs": [
    {
     "name": "stdout",
     "output_type": "stream",
     "text": [
      "[[0. 0. 0. 0. 0.]\n",
      " [0. 0. 0. 0. 0.]\n",
      " [0. 0. 0. 0. 0.]]\n"
     ]
    }
   ],
   "source": [
    "a=np.zeros((3,5))\n",
    "print(a)"
   ]
  },
  {
   "cell_type": "code",
   "execution_count": 13,
   "metadata": {
    "ExecuteTime": {
     "end_time": "2023-11-13T16:23:36.706857Z",
     "start_time": "2023-11-13T16:23:36.700567Z"
    }
   },
   "outputs": [
    {
     "name": "stdout",
     "output_type": "stream",
     "text": [
      "[[1. 1. 1.]\n",
      " [1. 1. 1.]\n",
      " [1. 1. 1.]\n",
      " [1. 1. 1.]\n",
      " [1. 1. 1.]]\n"
     ]
    }
   ],
   "source": [
    "a=np.ones((5,3))\n",
    "print(a)"
   ]
  },
  {
   "cell_type": "code",
   "execution_count": 14,
   "metadata": {
    "ExecuteTime": {
     "end_time": "2023-11-13T16:23:36.713468Z",
     "start_time": "2023-11-13T16:23:36.708912Z"
    }
   },
   "outputs": [
    {
     "name": "stdout",
     "output_type": "stream",
     "text": [
      "[[3 3 3 3]\n",
      " [3 3 3 3]]\n"
     ]
    }
   ],
   "source": [
    "a=np.full((2,4),3)\n",
    "print(a)"
   ]
  },
  {
   "cell_type": "markdown",
   "metadata": {},
   "source": [
    "Finally, we can create a square shaped array with ones on the diagonal (i.e. an identity matrix) using the function `numpy.eye()`."
   ]
  },
  {
   "cell_type": "code",
   "execution_count": 15,
   "metadata": {
    "ExecuteTime": {
     "end_time": "2023-11-13T16:23:36.725301Z",
     "start_time": "2023-11-13T16:23:36.716481Z"
    }
   },
   "outputs": [
    {
     "name": "stdout",
     "output_type": "stream",
     "text": [
      "[[1. 0. 0. 0. 0. 0. 0.]\n",
      " [0. 1. 0. 0. 0. 0. 0.]\n",
      " [0. 0. 1. 0. 0. 0. 0.]\n",
      " [0. 0. 0. 1. 0. 0. 0.]\n",
      " [0. 0. 0. 0. 1. 0. 0.]\n",
      " [0. 0. 0. 0. 0. 1. 0.]\n",
      " [0. 0. 0. 0. 0. 0. 1.]]\n"
     ]
    }
   ],
   "source": [
    "a=np.eye(7)\n",
    "print(a)"
   ]
  },
  {
   "cell_type": "markdown",
   "metadata": {},
   "source": [
    "### Dimension, Shape, and Size"
   ]
  },
  {
   "cell_type": "markdown",
   "metadata": {},
   "source": [
    "The attribute `.ndim` returns the dimension of an array, and the attribute `.shape` returns the tuple describing the number of rows, columns, etc., and the attribute `.size` returns the total number of entries"
   ]
  },
  {
   "cell_type": "code",
   "execution_count": 16,
   "metadata": {
    "ExecuteTime": {
     "end_time": "2023-11-13T16:23:36.734682Z",
     "start_time": "2023-11-13T16:23:36.727822Z"
    }
   },
   "outputs": [
    {
     "name": "stdout",
     "output_type": "stream",
     "text": [
      "[0. 0. 0. 0. 0. 0. 0. 0. 0. 0.]\n",
      "1 (10,) 10\n"
     ]
    }
   ],
   "source": [
    "a=np.zeros(10)\n",
    "print(a)\n",
    "print(a.ndim,a.shape,a.size)"
   ]
  },
  {
   "cell_type": "code",
   "execution_count": 17,
   "metadata": {
    "ExecuteTime": {
     "end_time": "2023-11-13T16:23:36.742969Z",
     "start_time": "2023-11-13T16:23:36.737696Z"
    }
   },
   "outputs": [
    {
     "name": "stdout",
     "output_type": "stream",
     "text": [
      "[[ 1  2  3  4  5]\n",
      " [ 6  7  8  9 10]]\n",
      "2 (2, 5) 10\n"
     ]
    }
   ],
   "source": [
    "a=np.array([[1,2,3,4,5],[6,7,8,9,10]])\n",
    "print(a)\n",
    "print(a.ndim,a.shape,a.size)"
   ]
  },
  {
   "cell_type": "code",
   "execution_count": 18,
   "metadata": {
    "ExecuteTime": {
     "end_time": "2023-11-13T16:23:36.753370Z",
     "start_time": "2023-11-13T16:23:36.745979Z"
    }
   },
   "outputs": [
    {
     "name": "stdout",
     "output_type": "stream",
     "text": [
      "[[[2.71828183 2.71828183 2.71828183 2.71828183]\n",
      "  [2.71828183 2.71828183 2.71828183 2.71828183]]\n",
      "\n",
      " [[2.71828183 2.71828183 2.71828183 2.71828183]\n",
      "  [2.71828183 2.71828183 2.71828183 2.71828183]]\n",
      "\n",
      " [[2.71828183 2.71828183 2.71828183 2.71828183]\n",
      "  [2.71828183 2.71828183 2.71828183 2.71828183]]]\n",
      "3 (3, 2, 4) 24\n"
     ]
    }
   ],
   "source": [
    "a=np.full((3,2,4),np.exp(1))\n",
    "print(a)\n",
    "print(a.ndim,a.shape,a.size)"
   ]
  },
  {
   "cell_type": "markdown",
   "metadata": {},
   "source": [
    "### Slicing and Indexing"
   ]
  },
  {
   "cell_type": "markdown",
   "metadata": {},
   "source": [
    "Indexing and slicing of arrays works just as for plain lists, including the use of negative indices. Numpy's indexing is however more versatile. For example, not only `a[i][j]`, but also `a[i,j]` is allowed."
   ]
  },
  {
   "cell_type": "code",
   "execution_count": 24,
   "metadata": {
    "ExecuteTime": {
     "end_time": "2023-11-13T16:23:36.764669Z",
     "start_time": "2023-11-13T16:23:36.757901Z"
    }
   },
   "outputs": [
    {
     "name": "stdout",
     "output_type": "stream",
     "text": [
      "[[ 1  2  3]\n",
      " [ 4  5  6]\n",
      " [ 7  8  9]\n",
      " [10 11 12]]\n",
      "8\n",
      "8\n",
      "[7 8 9]\n",
      "[7 8 9]\n",
      "[ 3  6  9 12]\n"
     ]
    }
   ],
   "source": [
    "a=np.array([[1,2,3],[4,5,6],[7,8,9],[10,11,12]])\n",
    "print(a)\n",
    "\n",
    "print(a[2,1]) # first number represents the \"column\" and the second number represents the \"row\"\n",
    "print(a[2][1])\n",
    "\n",
    "print(a[2])\n",
    "print(a[2,:])\n",
    "\n",
    "print(a[:,2])"
   ]
  },
  {
   "cell_type": "markdown",
   "metadata": {},
   "source": [
    "Accessing rows is also just as with lists, and accessing columnns also works (as opposed to lists, where this concept does not make sense). We simply put placeholders `:` into the position of the index corresponding to the data that we want to extract."
   ]
  },
  {
   "cell_type": "code",
   "execution_count": 25,
   "metadata": {
    "ExecuteTime": {
     "end_time": "2023-11-13T16:23:36.775907Z",
     "start_time": "2023-11-13T16:23:36.768187Z"
    }
   },
   "outputs": [
    {
     "name": "stdout",
     "output_type": "stream",
     "text": [
      "[[ 1  2  3]\n",
      " [ 4  5  6]\n",
      " [ 7  8  9]\n",
      " [10 11 12]]\n",
      "[7 8 9]\n",
      "[7 8 9]\n",
      "[ 2  5  8 11]\n"
     ]
    }
   ],
   "source": [
    "a=np.array([[1,2,3],[4,5,6],[7,8,9],[10,11,12]])\n",
    "print(a)\n",
    "print(a[2])\n",
    "print(a[2,:])\n",
    "print(a[:,1])"
   ]
  },
  {
   "cell_type": "markdown",
   "metadata": {},
   "source": [
    "Note that the last result is also given as a one-dimensional array, i.e. a row. If we want an array that resembles a column, we can use `numpy.reshape()`."
   ]
  },
  {
   "cell_type": "code",
   "execution_count": 26,
   "metadata": {
    "ExecuteTime": {
     "end_time": "2023-11-13T16:23:36.786685Z",
     "start_time": "2023-11-13T16:23:36.777919Z"
    }
   },
   "outputs": [
    {
     "name": "stdout",
     "output_type": "stream",
     "text": [
      "[ 2  5  8 11]\n",
      "[[ 2]\n",
      " [ 5]\n",
      " [ 8]\n",
      " [11]]\n"
     ]
    }
   ],
   "source": [
    "print(a[:,1])\n",
    "print(np.reshape(a[:,1],(4,1)))"
   ]
  },
  {
   "cell_type": "markdown",
   "metadata": {},
   "source": [
    "The indexing extends to extracting a subarray (slicing)."
   ]
  },
  {
   "cell_type": "code",
   "execution_count": 27,
   "metadata": {
    "ExecuteTime": {
     "end_time": "2023-11-13T16:23:36.796423Z",
     "start_time": "2023-11-13T16:23:36.790208Z"
    }
   },
   "outputs": [
    {
     "name": "stdout",
     "output_type": "stream",
     "text": [
      "[[ 0  1  2  3  4  5  6  7  8  9 10 11 12 13 14 15 16 17 18 19]\n",
      " [20 21 22 23 24 25 26 27 28 29 30 31 32 33 34 35 36 37 38 39]\n",
      " [40 41 42 43 44 45 46 47 48 49 50 51 52 53 54 55 56 57 58 59]\n",
      " [60 61 62 63 64 65 66 67 68 69 70 71 72 73 74 75 76 77 78 79]\n",
      " [80 81 82 83 84 85 86 87 88 89 90 91 92 93 94 95 96 97 98 99]]\n",
      "\n",
      "[[50 51 52 53 54]\n",
      " [70 71 72 73 74]]\n"
     ]
    }
   ],
   "source": [
    "a=np.reshape(np.array(range(100)),(5,20))\n",
    "print(a)\n",
    "print()\n",
    "print(a[2:4,10:15])"
   ]
  },
  {
   "cell_type": "markdown",
   "metadata": {},
   "source": [
    "In the above I have used the `numpy.reshape()` function to change a linear array with $100$ entries to a square array of shape $5\\times 20$. "
   ]
  },
  {
   "cell_type": "markdown",
   "metadata": {},
   "source": [
    "### Array Operations"
   ]
  },
  {
   "cell_type": "markdown",
   "metadata": {},
   "source": [
    "Arithmetic operators on arrays apply **elementwise**. A new array is created and filled with the result.\n",
    "In particular `*` multiplies elementwise (a process for matrices also known as the Hadamard product), which has nothing to do with a product of matrices which you will encounter next semester."
   ]
  },
  {
   "cell_type": "code",
   "execution_count": 28,
   "metadata": {
    "ExecuteTime": {
     "end_time": "2023-11-13T16:23:36.811129Z",
     "start_time": "2023-11-13T16:23:36.800971Z"
    }
   },
   "outputs": [
    {
     "name": "stdout",
     "output_type": "stream",
     "text": [
      "[[1 2 3]\n",
      " [4 5 6]\n",
      " [7 8 9]]\n",
      "[[1. 0. 0.]\n",
      " [0. 1. 0.]\n",
      " [0. 0. 1.]]\n",
      "[[1. 1. 1.]\n",
      " [1. 1. 1.]\n",
      " [1. 1. 1.]]\n",
      "a+b\n",
      "[[ 2.  2.  3.]\n",
      " [ 4.  6.  6.]\n",
      " [ 7.  8. 10.]]\n",
      "a*b\n",
      "[[1. 0. 0.]\n",
      " [0. 5. 0.]\n",
      " [0. 0. 9.]]\n",
      "b/a\n",
      "[[1.         0.         0.        ]\n",
      " [0.         0.2        0.        ]\n",
      " [0.         0.         0.11111111]]\n",
      "a**2\n",
      "[[ 1  4  9]\n",
      " [16 25 36]\n",
      " [49 64 81]]\n"
     ]
    }
   ],
   "source": [
    "a=np.array([[1,2,3],[4,5,6],[7,8,9]])\n",
    "b=np.eye(3)\n",
    "c=np.ones((3,3))\n",
    "print(a)\n",
    "print(b)\n",
    "print(c)\n",
    "print('a+b')\n",
    "print(a+b)\n",
    "print('a*b')\n",
    "print(a*b)\n",
    "print('b/a')\n",
    "print(b/a)\n",
    "print('a**2')\n",
    "print(a**2)"
   ]
  },
  {
   "cell_type": "markdown",
   "metadata": {},
   "source": [
    "There are many functions in `numpy` that work on arrays, such as `numpy.min` or `numpy.sum`. The nice thing is that we can also apply these commands along the rows or columns."
   ]
  },
  {
   "cell_type": "code",
   "execution_count": 29,
   "metadata": {
    "ExecuteTime": {
     "end_time": "2023-11-13T16:23:36.819810Z",
     "start_time": "2023-11-13T16:23:36.813139Z"
    }
   },
   "outputs": [
    {
     "name": "stdout",
     "output_type": "stream",
     "text": [
      "[[1 2 3]\n",
      " [4 5 6]\n",
      " [7 8 9]]\n",
      "45\n",
      "[12 15 18]\n",
      "[ 6 15 24]\n"
     ]
    }
   ],
   "source": [
    "print(a)\n",
    "print(np.sum(a))\n",
    "print(np.sum(a,axis=0))\n",
    "print(np.sum(a,axis=1))"
   ]
  },
  {
   "cell_type": "markdown",
   "metadata": {},
   "source": [
    "Note that the last result is also given as a one-dimensional array, i.e. a row. If we want an array that resembles a column, we can again use `numpy.reshape()`."
   ]
  },
  {
   "cell_type": "code",
   "execution_count": null,
   "metadata": {
    "ExecuteTime": {
     "end_time": "2023-11-13T16:23:36.827824Z",
     "start_time": "2023-11-13T16:23:36.821824Z"
    }
   },
   "outputs": [],
   "source": [
    "print(np.sum(a,axis=1))\n",
    "print(np.reshape(np.sum(a,axis=1),(3,1)))"
   ]
  },
  {
   "cell_type": "markdown",
   "metadata": {},
   "source": [
    "Note the difference between `np.sum` and `sum`: `np.sum` sums all the entries, `sum` sums up the columns."
   ]
  },
  {
   "cell_type": "code",
   "execution_count": null,
   "metadata": {
    "ExecuteTime": {
     "end_time": "2023-11-13T16:23:36.835960Z",
     "start_time": "2023-11-13T16:23:36.830352Z"
    }
   },
   "outputs": [],
   "source": [
    "print(np.sum(a))\n",
    "print(sum(a))\n",
    "print(np.sum(a,axis=0))"
   ]
  },
  {
   "cell_type": "markdown",
   "metadata": {},
   "source": [
    "One operation that is sometimes useful is to transpose arrays, i.e. swap their indices. We can visualise this as reflection along the diagonal with equal indices (i,i)."
   ]
  },
  {
   "cell_type": "code",
   "execution_count": null,
   "metadata": {
    "ExecuteTime": {
     "end_time": "2023-11-13T16:23:36.845720Z",
     "start_time": "2023-11-13T16:23:36.838499Z"
    }
   },
   "outputs": [],
   "source": [
    "a=np.array([[1,2],[3,4]])\n",
    "print(a)\n",
    "print(a.T)"
   ]
  },
  {
   "cell_type": "markdown",
   "metadata": {},
   "source": [
    "### Back to File I/O: Reading and writing numpy data"
   ]
  },
  {
   "cell_type": "markdown",
   "metadata": {},
   "source": [
    "If your data is in a *standard* format, it is much easier to work with file input/output. For example, a single numpy array can be read and written with the functions `numpy.loadtxt()` and `numpy.savetxt()`. The nice thing is that you don't have to worry about opening or closing files, it is done for you. You just have to specify the filename and the array."
   ]
  },
  {
   "cell_type": "code",
   "execution_count": null,
   "metadata": {
    "ExecuteTime": {
     "end_time": "2023-11-13T16:23:36.858977Z",
     "start_time": "2023-11-13T16:23:36.847732Z"
    },
    "scrolled": false
   },
   "outputs": [],
   "source": [
    "A=np.random.random((5,3))\n",
    "print(A)\n",
    "np.savetxt(\"test.txt\",A)"
   ]
  },
  {
   "cell_type": "markdown",
   "metadata": {},
   "source": [
    "As this is a plain text file, we can see what it looks like using `readlines()`."
   ]
  },
  {
   "cell_type": "code",
   "execution_count": null,
   "metadata": {
    "ExecuteTime": {
     "end_time": "2023-11-13T16:23:36.877959Z",
     "start_time": "2023-11-13T16:23:36.861898Z"
    }
   },
   "outputs": [],
   "source": [
    "with open(\"test.txt\",'r') as f:\n",
    "    for line in f:\n",
    "        print(line.rstrip())"
   ]
  },
  {
   "cell_type": "markdown",
   "metadata": {},
   "source": [
    "Let's load this as a new array instead."
   ]
  },
  {
   "cell_type": "code",
   "execution_count": null,
   "metadata": {
    "ExecuteTime": {
     "end_time": "2023-11-13T16:23:36.887493Z",
     "start_time": "2023-11-13T16:23:36.879969Z"
    }
   },
   "outputs": [],
   "source": [
    "B=np.loadtxt(\"test.txt\")\n",
    "print(B)"
   ]
  },
  {
   "cell_type": "markdown",
   "metadata": {},
   "source": [
    "Element-wise comparison shows equality of both arrays."
   ]
  },
  {
   "cell_type": "code",
   "execution_count": null,
   "metadata": {
    "ExecuteTime": {
     "end_time": "2023-11-13T16:23:36.901659Z",
     "start_time": "2023-11-13T16:23:36.894513Z"
    }
   },
   "outputs": [],
   "source": [
    "print(A==B)"
   ]
  },
  {
   "cell_type": "markdown",
   "metadata": {},
   "source": [
    "The advantage of the method described here is that the data is stored as a plain text file, which you can easily read. See [here](https://www.python-course.eu/numpy_reading_writing.php) for alternatives involving e.g. binary data."
   ]
  },
  {
   "cell_type": "markdown",
   "metadata": {},
   "source": [
    "## An application: solving systems of linear equations."
   ]
  },
  {
   "cell_type": "markdown",
   "metadata": {},
   "source": [
    "Next semester you will learn about Linear Algebra, which can help with solving systems of $n$ linear equations in $n$ unknowns.\n",
    "\n",
    "For $n=2$, these are equations such as\n",
    "\\begin{align*}\n",
    "3x_0+2x_1&=6\\\\\n",
    "-x_0+4x_1&=2\n",
    "\\end{align*}\n",
    "\n",
    "While this is still easy to solve for $n=2$ (or $3$), computers can do this quickly for much larger values of $n$.\n",
    "\n",
    "We collect all the coefficients on the left-hand-side in a $2\\times 2$-array $A$:\n",
    "$$\n",
    "A=\\left(\\begin{matrix} 3&2\\\\ -1&4\\end{matrix}\\right)\n",
    "$$\n",
    "\n",
    "The coefficients on the right-hand side form a one-dimensional array $b=(6,2)$ of size $2$, and the unknowns $x_0$ and $x_1$ similarly form a one-dimensional array $x=(x_0,x_1)$ of size $2$."
   ]
  },
  {
   "cell_type": "markdown",
   "metadata": {},
   "source": [
    "Let's do this in Python:"
   ]
  },
  {
   "cell_type": "code",
   "execution_count": null,
   "metadata": {
    "ExecuteTime": {
     "end_time": "2023-11-13T16:23:36.910668Z",
     "start_time": "2023-11-13T16:23:36.904670Z"
    },
    "scrolled": true
   },
   "outputs": [],
   "source": [
    "A=np.array([[3,2],[-1,4]])\n",
    "print(A)\n",
    "print()\n",
    "b=[6,2]\n",
    "print(b)"
   ]
  },
  {
   "cell_type": "markdown",
   "metadata": {},
   "source": [
    "Having defined $A$ and $b$, there is now a function in the linear algebra module that we can use to find $x$."
   ]
  },
  {
   "cell_type": "code",
   "execution_count": null,
   "metadata": {
    "ExecuteTime": {
     "end_time": "2023-11-13T16:23:36.921813Z",
     "start_time": "2023-11-13T16:23:36.912678Z"
    }
   },
   "outputs": [],
   "source": [
    "x=la.solve(A,b)\n",
    "print(x)"
   ]
  },
  {
   "cell_type": "markdown",
   "metadata": {},
   "source": [
    "We easily identify $x_0=10/7$ and $x_1=6/7$, and we can check\n",
    "\\begin{align*}\n",
    "3\\frac{10}7+2\\frac67&=\\frac{42}7=6\\\\\n",
    "-\\frac{10}7+4\\frac67y&=\\frac{14}7=2\n",
    "\\end{align*}\n",
    "as required."
   ]
  },
  {
   "cell_type": "markdown",
   "metadata": {},
   "source": [
    "But why stop at $n=2$? Let's generate some larger example for, say, $n=6$."
   ]
  },
  {
   "cell_type": "code",
   "execution_count": null,
   "metadata": {
    "ExecuteTime": {
     "end_time": "2023-11-13T16:23:36.936467Z",
     "start_time": "2023-11-13T16:23:36.925825Z"
    }
   },
   "outputs": [],
   "source": [
    "A=np.random.normal(size=(6,6))\n",
    "b=np.random.normal(size=(6))\n",
    "print(A)\n",
    "print()\n",
    "print(b)"
   ]
  },
  {
   "cell_type": "markdown",
   "metadata": {},
   "source": [
    "Let us solve for $x$."
   ]
  },
  {
   "cell_type": "code",
   "execution_count": null,
   "metadata": {
    "ExecuteTime": {
     "end_time": "2023-11-13T16:23:36.956662Z",
     "start_time": "2023-11-13T16:23:36.942541Z"
    }
   },
   "outputs": [],
   "source": [
    "x=la.solve(A,b)\n",
    "print(x)"
   ]
  },
  {
   "cell_type": "markdown",
   "metadata": {},
   "source": [
    "To check the validity, we use an operation called matrix multiplication (more on this next semester). Python does this with the symbol `@`. `x=la.solve(A,b)` solves the matrix equation $Ax=b$, so we need to compute $Ax$ and compare it to $b$."
   ]
  },
  {
   "cell_type": "code",
   "execution_count": null,
   "metadata": {
    "ExecuteTime": {
     "end_time": "2023-11-13T16:23:36.968265Z",
     "start_time": "2023-11-13T16:23:36.961220Z"
    },
    "scrolled": true
   },
   "outputs": [],
   "source": [
    "print(A@x)\n",
    "print()\n",
    "print(b)"
   ]
  },
  {
   "cell_type": "markdown",
   "metadata": {},
   "source": [
    "This seemed to have worked very well."
   ]
  },
  {
   "cell_type": "markdown",
   "metadata": {},
   "source": [
    "Of course I have ignored many issues here: you presumably know already that a system of linear equations may not have any solution, or perhaps more than one, for example. Again, I shall refer to the Linear Algebra module next term."
   ]
  },
  {
   "cell_type": "markdown",
   "metadata": {},
   "source": [
    "## Pandas"
   ]
  },
  {
   "cell_type": "markdown",
   "metadata": {},
   "source": [
    "When it comes to Python, Pandas are not cuddly animals. Rather, Pandas is the name of the *Python Data Analysis Library*, and if you want to do modern data analytics with Python, you will hardly manage to avoid [Pandas](https://pandas.pydata.org/). Its [DataFrame](http://pandas.pydata.org/pandas-docs/stable/reference/frame.html) object is becoming a standard for spreadsheet data. For example, there are ready-made tools available to directly access statistical or financial data from the web. These services are provided by the World Bank, OECD, Eurostat, Nasdaq, and many more."
   ]
  },
  {
   "cell_type": "code",
   "execution_count": null,
   "metadata": {
    "ExecuteTime": {
     "end_time": "2023-11-13T16:23:38.140000Z",
     "start_time": "2023-11-13T16:23:36.973292Z"
    }
   },
   "outputs": [],
   "source": [
    "import numpy as np\n",
    "import matplotlib.pyplot as plt\n",
    "import pandas as pd"
   ]
  },
  {
   "cell_type": "markdown",
   "metadata": {},
   "source": [
    "## A case study: Atmospheric Carbondioxide Data"
   ]
  },
  {
   "cell_type": "markdown",
   "metadata": {},
   "source": [
    "To show you the strength of Pandas, we present a brief analysis of carbondioxide data from the Mauna Loa observatory on Hawaii (with a resit project focussing on Methane data), readily available online.\n",
    "\n",
    "This shows how easy it is to\n",
    "\n",
    "- access live data from the web\n",
    "- work with spreadsheets in Python (who needs Excel?)\n",
    "- utilise powerful functionality from special modules (or do it even better from scratch)\n",
    "- present data in a visually appealing way"
   ]
  },
  {
   "cell_type": "markdown",
   "metadata": {},
   "source": [
    "The data is available as a csv document: https://gml.noaa.gov/webdata/ccgg/trends/co2/co2_weekly_mlo.csv \n",
    "\n",
    "This is the same file format (comma separated values) that Excel can read, so we can just open it directly to have a peek. We see some explanation in the header, followed by neatly arranged data in labelled columns.\n",
    "\n",
    "But we wish to open it in Python. Except for telling Python where to start reading (we need to skip the top rows and start with the row that has the column labels), we can simply use `pd.read_csv(url_string)`."
   ]
  },
  {
   "cell_type": "code",
   "execution_count": null,
   "metadata": {
    "ExecuteTime": {
     "end_time": "2023-11-13T16:23:39.282419Z",
     "start_time": "2023-11-13T16:23:38.143008Z"
    },
    "scrolled": false
   },
   "outputs": [],
   "source": [
    "# note the need to skip the top rows (view the file in excel to see the content)\n",
    "data=pd.read_csv(\"https://gml.noaa.gov/webdata/ccgg/trends/co2/co2_weekly_mlo.csv\",skiprows=35)"
   ]
  },
  {
   "cell_type": "markdown",
   "metadata": {},
   "source": [
    "So what does this file look like? We can easily look at a neatly formatted output!"
   ]
  },
  {
   "cell_type": "code",
   "execution_count": null,
   "metadata": {
    "ExecuteTime": {
     "end_time": "2023-11-13T16:23:39.311740Z",
     "start_time": "2023-11-13T16:23:39.285426Z"
    },
    "scrolled": false
   },
   "outputs": [],
   "source": [
    "data"
   ]
  },
  {
   "cell_type": "markdown",
   "metadata": {},
   "source": [
    "We see a typical spreadsheet, with column labels, row labels (in this case just indices), and content in the cells (here just numerical values, it seems)."
   ]
  },
  {
   "cell_type": "markdown",
   "metadata": {},
   "source": [
    "The column labels are fairly self-explanatory: There are four columns referring to the time of the measurement, one column giving the measured Carbondioxide concentration in ppm (parts per million), and some extra information. Every row corresponds to a weekly averaged measurement, and there are 2582 weeks available, covering roughly 50 years."
   ]
  },
  {
   "cell_type": "markdown",
   "metadata": {},
   "source": [
    "We extract the date (in decimal, that seems easiest) and the CO2 concentration."
   ]
  },
  {
   "cell_type": "code",
   "execution_count": null,
   "metadata": {
    "ExecuteTime": {
     "end_time": "2023-11-13T16:23:39.332469Z",
     "start_time": "2023-11-13T16:23:39.314750Z"
    },
    "scrolled": false
   },
   "outputs": [],
   "source": [
    "Mauna_Loa=data[[\"decimal\",\"average\"]].set_index(\"decimal\")\n",
    "Mauna_Loa"
   ]
  },
  {
   "cell_type": "markdown",
   "metadata": {},
   "source": [
    "Let's plot it. All we need to make it look good is some labelling of the axes."
   ]
  },
  {
   "cell_type": "code",
   "execution_count": null,
   "metadata": {
    "ExecuteTime": {
     "end_time": "2023-11-13T16:23:39.733238Z",
     "start_time": "2023-11-13T16:23:39.336484Z"
    },
    "scrolled": false
   },
   "outputs": [],
   "source": [
    "Mauna_Loa.plot(xlabel=\"year\",ylabel=\"$CO_2$ [ppm]\")\n",
    "plt.show()"
   ]
  },
  {
   "cell_type": "markdown",
   "metadata": {},
   "source": [
    "Oops! Looks like we need some data cleaning (notice the -999.9 above - this signifies missing data, it seems). Concentrations should be non-negative, so let's remove all the negative entries and replot."
   ]
  },
  {
   "cell_type": "code",
   "execution_count": null,
   "metadata": {
    "ExecuteTime": {
     "end_time": "2023-11-13T16:23:39.897766Z",
     "start_time": "2023-11-13T16:23:39.735251Z"
    },
    "scrolled": false
   },
   "outputs": [],
   "source": [
    "filtered=Mauna_Loa[Mauna_Loa[\"average\"]>0] # doesn't this look easy?!?\n",
    "filtered.plot(xlabel=\"year\",ylabel=\"$CO_2$ [ppm]\")\n",
    "plt.show()"
   ]
  },
  {
   "cell_type": "markdown",
   "metadata": {},
   "source": [
    "This looks a lot nicer.\n",
    "\n",
    "The above is a fairly typical process when looking at real data. We need to inspect the data, select the right data sets (choose columns), understand the content, and possibly clean up some, remove outliers, deal with missing data, and the like."
   ]
  },
  {
   "cell_type": "markdown",
   "metadata": {},
   "source": [
    "We can see that there is\n",
    "- a global trend,\n",
    "- regular seasonal oscillations, and perhaps \n",
    "- residual noise\n",
    "\n",
    "Courtesy of the module `statsmodels`, there is a simple function to do this all in one fell swoop!"
   ]
  },
  {
   "cell_type": "code",
   "execution_count": null,
   "metadata": {
    "ExecuteTime": {
     "end_time": "2023-11-13T16:23:40.968792Z",
     "start_time": "2023-11-13T16:23:39.899815Z"
    },
    "scrolled": false
   },
   "outputs": [],
   "source": [
    "from statsmodels.tsa.seasonal import seasonal_decompose\n",
    "plt.rcParams[\"figure.figsize\"]=(12,6) # change the figure size to see things better\n",
    "seasonal_decompose(pd.Series(filtered[\"average\"]),model=\"additive\",period=52).plot()\n",
    "plt.show()"
   ]
  },
  {
   "cell_type": "markdown",
   "metadata": {},
   "source": [
    "Impressive, isn't it?"
   ]
  },
  {
   "cell_type": "markdown",
   "metadata": {},
   "source": [
    "OK, let us try to do this by hand. We have yearly oscillations, let's take rolling over 52 weeks to get the average over one year."
   ]
  },
  {
   "cell_type": "code",
   "execution_count": null,
   "metadata": {
    "ExecuteTime": {
     "end_time": "2023-11-13T16:23:41.149816Z",
     "start_time": "2023-11-13T16:23:40.970810Z"
    },
    "scrolled": false
   },
   "outputs": [],
   "source": [
    "Mauna_Loa_cleaned=filtered[[\"average\"]]\n",
    "Mauna_Loa_cleaned[\"trend\"]=Mauna_Loa_cleaned[\"average\"].rolling(52,center=True).mean()\n",
    "Mauna_Loa_cleaned.plot()\n",
    "plt.show()"
   ]
  },
  {
   "cell_type": "markdown",
   "metadata": {},
   "source": [
    "You see, I just added a column labelled \"trend\" and simply plot the whole dataframe. The orange line follows the blue oscillating curve nicely. \n",
    "\n",
    "If you look closely, you can observe tht the orange line does not extend across the full date range. The reason is that it needs enough data points to compute a rolling mean, and thus 26 weeks are missing on both ends.\n",
    "\n",
    "Next, I am interested in the difference, so I create another column with label \"detrended\" and enter the difference between \"average\" and \"trend\". "
   ]
  },
  {
   "cell_type": "code",
   "execution_count": null,
   "metadata": {
    "ExecuteTime": {
     "end_time": "2023-11-13T16:23:41.347742Z",
     "start_time": "2023-11-13T16:23:41.151823Z"
    }
   },
   "outputs": [],
   "source": [
    "Mauna_Loa_cleaned[\"detrended\"]=Mauna_Loa_cleaned[\"average\"]-Mauna_Loa_cleaned[\"trend\"]\n",
    "Mauna_Loa_cleaned[[\"detrended\"]].plot()\n",
    "plt.show()"
   ]
  },
  {
   "cell_type": "markdown",
   "metadata": {},
   "source": [
    "Now get the seasonal effects by taking means over each week of the year (I admit, this is a bit complicated, I needed some serious Googling to do this in just two lines)."
   ]
  },
  {
   "cell_type": "code",
   "execution_count": null,
   "metadata": {
    "ExecuteTime": {
     "end_time": "2023-11-13T16:23:41.369131Z",
     "start_time": "2023-11-13T16:23:41.348747Z"
    },
    "scrolled": false
   },
   "outputs": [],
   "source": [
    "Mauna_Loa_cleaned[\"week\"]=(52*(Mauna_Loa_cleaned.index%1)).astype(int) # extract the week from the index values\n",
    "Mauna_Loa_cleaned[\"seasonality\"]=Mauna_Loa_cleaned.groupby(\"week\")[\"detrended\"].transform(\"mean\") # take averages over each week (across all 50 years)\n",
    "Mauna_Loa_cleaned # Note the NaN values for the undefined rolling averages at beginning and end"
   ]
  },
  {
   "cell_type": "markdown",
   "metadata": {},
   "source": [
    "Plotting this shows a very nice periodic signal - of course the same for every year, the way we have computed it."
   ]
  },
  {
   "cell_type": "code",
   "execution_count": null,
   "metadata": {
    "ExecuteTime": {
     "end_time": "2023-11-13T16:23:41.580838Z",
     "start_time": "2023-11-13T16:23:41.371144Z"
    }
   },
   "outputs": [],
   "source": [
    "Mauna_Loa_cleaned[[\"seasonality\"]].plot()\n",
    "plt.show()"
   ]
  },
  {
   "cell_type": "markdown",
   "metadata": {},
   "source": [
    "Finally, look at what's left (the residual noise):"
   ]
  },
  {
   "cell_type": "code",
   "execution_count": null,
   "metadata": {
    "ExecuteTime": {
     "end_time": "2023-11-13T16:23:41.740110Z",
     "start_time": "2023-11-13T16:23:41.581844Z"
    },
    "scrolled": false
   },
   "outputs": [],
   "source": [
    "Mauna_Loa_cleaned[\"residual\"]=Mauna_Loa_cleaned[\"average\"]-Mauna_Loa_cleaned[\"trend\"]-Mauna_Loa_cleaned[\"seasonality\"]\n",
    "Mauna_Loa_cleaned[\"residual\"].plot()\n",
    "plt.show()"
   ]
  },
  {
   "cell_type": "markdown",
   "metadata": {},
   "source": [
    "This looks much better than the black-box method: the periodicity of the seasonal data is clear, and the residual noise does not have any visible structure left.\n",
    "\n",
    "To finish, let's mimic the plot from the black box function."
   ]
  },
  {
   "cell_type": "code",
   "execution_count": null,
   "metadata": {
    "ExecuteTime": {
     "end_time": "2023-11-13T16:23:42.343645Z",
     "start_time": "2023-11-13T16:23:41.742122Z"
    },
    "scrolled": false
   },
   "outputs": [],
   "source": [
    "Mauna_Loa_cleaned.loc[:, [\"average\",\"trend\",\"seasonality\",\"residual\"]].plot(subplots=True)\n",
    "plt.show()"
   ]
  },
  {
   "cell_type": "markdown",
   "metadata": {},
   "source": [
    "**Note: The previous example was all pretty much what I would call black-box coding: you simply chain together some high level functions that do some stuff you don't really know much about in detail, all in a very linear fashion. In other words, there isn't really any proper programming involved. Still, the existence of these high-level functions is what makes Python so incredibly useful!** \n",
    "\n",
    "Practically, all you need is Google and some trial-and-error guesswork."
   ]
  },
  {
   "cell_type": "markdown",
   "metadata": {},
   "source": [
    "## Conclusion and Outlook"
   ]
  },
  {
   "cell_type": "markdown",
   "metadata": {},
   "source": [
    "In this lecture we introduced the basics of dealing with arrays in Python and looked at solving systems of linear equations. We then provided a glimpse of Pandas, to be continued next week."
   ]
  }
 ],
 "metadata": {
  "kernelspec": {
   "display_name": "Python 3 (ipykernel)",
   "language": "python",
   "name": "python3"
  },
  "language_info": {
   "codemirror_mode": {
    "name": "ipython",
    "version": 3
   },
   "file_extension": ".py",
   "mimetype": "text/x-python",
   "name": "python",
   "nbconvert_exporter": "python",
   "pygments_lexer": "ipython3",
   "version": "3.11.5"
  }
 },
 "nbformat": 4,
 "nbformat_minor": 2
}
